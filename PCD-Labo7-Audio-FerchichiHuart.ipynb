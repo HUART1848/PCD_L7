{
 "cells": [
  {
   "cell_type": "code",
   "execution_count": 14,
   "id": "1a423cd1",
   "metadata": {},
   "outputs": [],
   "source": [
    "from pyAudioAnalysis import audioBasicIO, MidTermFeatures as mtf\n",
    "from sklearn         import preprocessing\n",
    "from numpy           import dot\n",
    "from numpy. linalg   import norm\n",
    "from scipy           import stats\n",
    "import glob  \n",
    "import os\n",
    "import numpy as np"
   ]
  },
  {
   "cell_type": "code",
   "execution_count": 15,
   "id": "4a0696a2",
   "metadata": {},
   "outputs": [],
   "source": [
    "    types = ('*.wav', '*.aif',  '*.aiff', '*.mp3', '*.au', '*.ogg')\n",
    "    wav_file_list = []\n",
    "    for files in types:\n",
    "        wav_file_list.extend(glob.glob(os.path.join('data', files)))\n",
    "\n",
    "    wav_file_list = sorted(wav_file_list)   \n",
    "        "
   ]
  },
  {
   "cell_type": "code",
   "execution_count": 21,
   "id": "2d034e7b",
   "metadata": {},
   "outputs": [],
   "source": [
    "    for i, file_path in enumerate(wav_file_list):\n",
    " \n",
    "     if os.stat(file_path).st_size == 0:\n",
    "            print(\"   (EMPTY FILE -- SKIPPING)\")\n",
    "            continue        \n",
    "    sampling_rate, signal = audioBasicIO.read_audio_file(file_path)\n"
   ]
  },
  {
   "cell_type": "code",
   "execution_count": 24,
   "id": "88e012ac",
   "metadata": {},
   "outputs": [
    {
     "data": {
      "text/plain": [
       "(6988032, 2)"
      ]
     },
     "execution_count": 24,
     "metadata": {},
     "output_type": "execute_result"
    }
   ],
   "source": [
    "signal.shape\n",
    "\n"
   ]
  },
  {
   "cell_type": "code",
   "execution_count": 3,
   "id": "6bc2d67d",
   "metadata": {},
   "outputs": [
    {
     "name": "stdout",
     "output_type": "stream",
     "text": [
      "Analyzing file 1 of 8: data\\0.mp3\n",
      "Analyzing file 2 of 8: data\\1.mp3\n",
      "Analyzing file 3 of 8: data\\2.mp3\n",
      "Analyzing file 4 of 8: data\\3.mp3\n",
      "Analyzing file 5 of 8: data\\4.mp3\n",
      "Analyzing file 6 of 8: data\\5.mp3\n",
      "Analyzing file 7 of 8: data\\6.mp3\n",
      "Analyzing file 8 of 8: data\\7.mp3\n",
      "Feature extraction complexity ratio: 6.9 x realtime\n"
     ]
    }
   ],
   "source": [
    "mid_term_features, wav_file_list2, mid_feature_names = mtf.directory_feature_extraction('data', 0.5, 0.25, 0.05, 0.025) "
   ]
  },
  {
   "cell_type": "code",
   "execution_count": 4,
   "id": "60731635",
   "metadata": {},
   "outputs": [
    {
     "data": {
      "text/plain": [
       "['data\\\\0.mp3',\n",
       " 'data\\\\1.mp3',\n",
       " 'data\\\\2.mp3',\n",
       " 'data\\\\3.mp3',\n",
       " 'data\\\\4.mp3',\n",
       " 'data\\\\5.mp3',\n",
       " 'data\\\\6.mp3',\n",
       " 'data\\\\7.mp3']"
      ]
     },
     "execution_count": 4,
     "metadata": {},
     "output_type": "execute_result"
    }
   ],
   "source": [
    "wav_file_list2"
   ]
  },
  {
   "cell_type": "code",
   "execution_count": 5,
   "id": "9e354034",
   "metadata": {},
   "outputs": [
    {
     "data": {
      "text/plain": [
       "(8, 138)"
      ]
     },
     "execution_count": 5,
     "metadata": {},
     "output_type": "execute_result"
    }
   ],
   "source": [
    "# Shape of matrix returned by directory_feature_extraction\n",
    "mid_term_features.shape"
   ]
  },
  {
   "cell_type": "code",
   "execution_count": 6,
   "id": "2115224a",
   "metadata": {},
   "outputs": [
    {
     "data": {
      "text/plain": [
       "['zcr_mean',\n",
       " 'energy_mean',\n",
       " 'energy_entropy_mean',\n",
       " 'spectral_centroid_mean',\n",
       " 'spectral_spread_mean',\n",
       " 'spectral_entropy_mean',\n",
       " 'spectral_flux_mean',\n",
       " 'spectral_rolloff_mean',\n",
       " 'mfcc_1_mean',\n",
       " 'mfcc_2_mean']"
      ]
     },
     "execution_count": 6,
     "metadata": {},
     "output_type": "execute_result"
    }
   ],
   "source": [
    "# First 10 features names retrieved from directory_feature_extraction\n",
    "mid_feature_names[0:10]"
   ]
  },
  {
   "cell_type": "code",
   "execution_count": 7,
   "id": "af156c70",
   "metadata": {},
   "outputs": [
    {
     "data": {
      "text/plain": [
       "array([ 2.82489882e-02,  3.52930876e-03,  3.16305095e+00,  8.34179921e-02,\n",
       "        1.46483414e-01,  4.93196535e-02,  4.68404979e-03,  3.94296080e-02,\n",
       "       -2.95279961e+01,  2.60249223e+00])"
      ]
     },
     "execution_count": 7,
     "metadata": {},
     "output_type": "execute_result"
    }
   ],
   "source": [
    "# First 10 values of features vector returnes by directory_feature_extraction for audio 0\n",
    "mid_term_features[0][0:10]"
   ]
  },
  {
   "cell_type": "code",
   "execution_count": null,
   "id": "6ae2a43a",
   "metadata": {},
   "outputs": [],
   "source": [
    "def proximity_to_reference_ranking (FeaturesList) :\n",
    "    \n",
    "    song0 =  \n",
    "    \n",
    "    \n",
    "\n",
    "    \n",
    "    "
   ]
  }
 ],
 "metadata": {
  "kernelspec": {
   "display_name": "Python 3 (ipykernel)",
   "language": "python",
   "name": "python3"
  },
  "language_info": {
   "codemirror_mode": {
    "name": "ipython",
    "version": 3
   },
   "file_extension": ".py",
   "mimetype": "text/x-python",
   "name": "python",
   "nbconvert_exporter": "python",
   "pygments_lexer": "ipython3",
   "version": "3.9.7"
  }
 },
 "nbformat": 4,
 "nbformat_minor": 5
}
