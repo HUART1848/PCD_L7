{
 "cells": [
  {
   "cell_type": "markdown",
   "id": "a0b7ceaf-d826-4e62-96c7-c317c04024e0",
   "metadata": {},
   "source": [
    "# PCD - Laboratoire 7 - Recommendation musicale basée sur le contenu"
   ]
  },
  {
   "cell_type": "code",
   "execution_count": 1,
   "id": "7b632be8-f947-41a7-aaa1-71a64813d589",
   "metadata": {
    "editable": true,
    "slideshow": {
     "slide_type": ""
    },
    "tags": []
   },
   "outputs": [],
   "source": [
    "import numpy as np\n",
    "import pandas as pd\n",
    "\n",
    "from itertools import combinations\n",
    "from sklearn.preprocessing import normalize\n",
    "from scipy.stats import spearmanr\n",
    "\n",
    "from pyAudioAnalysis import ShortTermFeatures\n",
    "from pyAudioAnalysis import MidTermFeatures"
   ]
  },
  {
   "cell_type": "markdown",
   "id": "6937be67-460f-4cc8-b650-d3529d66f18e",
   "metadata": {},
   "source": [
    "# 1. Extraction des données"
   ]
  },
  {
   "cell_type": "markdown",
   "id": "cb392ba5-1436-4e1b-8ad4-898675ed14ee",
   "metadata": {},
   "source": [
    "Les chansons ont été téléchargées dans un dossier `data/`.\n",
    "\n",
    "Extraction des attributs globaux à moyen terme (moyenne et écart-type) de chaque chanson:"
   ]
  },
  {
   "cell_type": "code",
   "execution_count": 2,
   "id": "b55788e2-637e-4062-9f65-3ac4686a1792",
   "metadata": {},
   "outputs": [
    {
     "name": "stdout",
     "output_type": "stream",
     "text": [
      "Analyzing file 1 of 8: data\\0.mp3\n",
      "Analyzing file 2 of 8: data\\1.mp3\n",
      "Analyzing file 3 of 8: data\\2.mp3\n",
      "Analyzing file 4 of 8: data\\3.mp3\n",
      "Analyzing file 5 of 8: data\\4.mp3\n",
      "Analyzing file 6 of 8: data\\5.mp3\n",
      "Analyzing file 7 of 8: data\\6.mp3\n",
      "Analyzing file 8 of 8: data\\7.mp3\n",
      "Feature extraction complexity ratio: 45.3 x realtime\n"
     ]
    }
   ],
   "source": [
    "songs = MidTermFeatures.directory_feature_extraction(\"data\", 1, 1, 0.05, 0.05) # Valeurs issues de l'exemple de pyAudioAnalysis"
   ]
  },
  {
   "cell_type": "markdown",
   "id": "19fb724b-85fd-46eb-adf4-a21a321be074",
   "metadata": {},
   "source": [
    "Normalisation:"
   ]
  },
  {
   "cell_type": "code",
   "execution_count": 3,
   "id": "9fe40046-4a43-44e2-9236-8834b973e7f5",
   "metadata": {},
   "outputs": [],
   "source": [
    "songs = pd.DataFrame(songs[0], columns=songs[2])\n",
    "songs = (songs - songs.mean()) / songs.std()"
   ]
  },
  {
   "cell_type": "code",
   "execution_count": 4,
   "id": "4ca9fee7-5124-41a9-b1cc-4af1d1a617a6",
   "metadata": {},
   "outputs": [
    {
     "name": "stdout",
     "output_type": "stream",
     "text": [
      "Nombre d'attributs: 138\n",
      "['zcr_mean', 'energy_mean', 'energy_entropy_mean', 'spectral_centroid_mean', 'spectral_spread_mean', 'spectral_entropy_mean', 'spectral_flux_mean', 'spectral_rolloff_mean', 'mfcc_1_mean', 'mfcc_2_mean', 'mfcc_3_mean', 'mfcc_4_mean', 'mfcc_5_mean', 'mfcc_6_mean', 'mfcc_7_mean', 'mfcc_8_mean', 'mfcc_9_mean', 'mfcc_10_mean', 'mfcc_11_mean', 'mfcc_12_mean', 'mfcc_13_mean', 'chroma_1_mean', 'chroma_2_mean', 'chroma_3_mean', 'chroma_4_mean', 'chroma_5_mean', 'chroma_6_mean', 'chroma_7_mean', 'chroma_8_mean', 'chroma_9_mean', 'chroma_10_mean', 'chroma_11_mean', 'chroma_12_mean', 'chroma_std_mean', 'delta zcr_mean', 'delta energy_mean', 'delta energy_entropy_mean', 'delta spectral_centroid_mean', 'delta spectral_spread_mean', 'delta spectral_entropy_mean', 'delta spectral_flux_mean', 'delta spectral_rolloff_mean', 'delta mfcc_1_mean', 'delta mfcc_2_mean', 'delta mfcc_3_mean', 'delta mfcc_4_mean', 'delta mfcc_5_mean', 'delta mfcc_6_mean', 'delta mfcc_7_mean', 'delta mfcc_8_mean', 'delta mfcc_9_mean', 'delta mfcc_10_mean', 'delta mfcc_11_mean', 'delta mfcc_12_mean', 'delta mfcc_13_mean', 'delta chroma_1_mean', 'delta chroma_2_mean', 'delta chroma_3_mean', 'delta chroma_4_mean', 'delta chroma_5_mean', 'delta chroma_6_mean', 'delta chroma_7_mean', 'delta chroma_8_mean', 'delta chroma_9_mean', 'delta chroma_10_mean', 'delta chroma_11_mean', 'delta chroma_12_mean', 'delta chroma_std_mean', 'zcr_std', 'energy_std', 'energy_entropy_std', 'spectral_centroid_std', 'spectral_spread_std', 'spectral_entropy_std', 'spectral_flux_std', 'spectral_rolloff_std', 'mfcc_1_std', 'mfcc_2_std', 'mfcc_3_std', 'mfcc_4_std', 'mfcc_5_std', 'mfcc_6_std', 'mfcc_7_std', 'mfcc_8_std', 'mfcc_9_std', 'mfcc_10_std', 'mfcc_11_std', 'mfcc_12_std', 'mfcc_13_std', 'chroma_1_std', 'chroma_2_std', 'chroma_3_std', 'chroma_4_std', 'chroma_5_std', 'chroma_6_std', 'chroma_7_std', 'chroma_8_std', 'chroma_9_std', 'chroma_10_std', 'chroma_11_std', 'chroma_12_std', 'chroma_std_std', 'delta zcr_std', 'delta energy_std', 'delta energy_entropy_std', 'delta spectral_centroid_std', 'delta spectral_spread_std', 'delta spectral_entropy_std', 'delta spectral_flux_std', 'delta spectral_rolloff_std', 'delta mfcc_1_std', 'delta mfcc_2_std', 'delta mfcc_3_std', 'delta mfcc_4_std', 'delta mfcc_5_std', 'delta mfcc_6_std', 'delta mfcc_7_std', 'delta mfcc_8_std', 'delta mfcc_9_std', 'delta mfcc_10_std', 'delta mfcc_11_std', 'delta mfcc_12_std', 'delta mfcc_13_std', 'delta chroma_1_std', 'delta chroma_2_std', 'delta chroma_3_std', 'delta chroma_4_std', 'delta chroma_5_std', 'delta chroma_6_std', 'delta chroma_7_std', 'delta chroma_8_std', 'delta chroma_9_std', 'delta chroma_10_std', 'delta chroma_11_std', 'delta chroma_12_std', 'delta chroma_std_std', 'bpm', 'ratio']\n"
     ]
    }
   ],
   "source": [
    "all_features = list(songs.columns)\n",
    "\n",
    "print(f\"Nombre d'attributs: {len(all_features)}\")\n",
    "print(all_features)"
   ]
  },
  {
   "cell_type": "markdown",
   "id": "88dbe584-a22e-446d-9eda-9107ad9538cb",
   "metadata": {},
   "source": [
    "## 2. Sélection des attributs"
   ]
  },
  {
   "cell_type": "markdown",
   "id": "0e6f8396-d3fe-4b60-9218-7fc14716d3df",
   "metadata": {},
   "source": [
    "### Fonctions"
   ]
  },
  {
   "cell_type": "code",
   "execution_count": 5,
   "id": "0008eb59-7efc-47c6-8c26-2f5f86c0435e",
   "metadata": {
    "tags": []
   },
   "outputs": [],
   "source": [
    "def l2_distance(a, b):\n",
    "    \"\"\"Calcule la distance L2 (euclidienne) entre deux vecteurs\"\"\"\n",
    "    return np.linalg.norm(a - b)"
   ]
  },
  {
   "cell_type": "code",
   "execution_count": 6,
   "id": "c2ab6879-871b-49c2-933a-d0759aa078d0",
   "metadata": {},
   "outputs": [],
   "source": [
    "def ideal_rank(n):\n",
    "    \"\"\"Retourne un classement idéal, c'est à dire un suite de 1 à n - 1\"\"\"\n",
    "    return list(range(1, n))"
   ]
  },
  {
   "cell_type": "code",
   "execution_count": 7,
   "id": "1d3c6357-f965-4f22-b1f7-63b1ed52317f",
   "metadata": {},
   "outputs": [],
   "source": [
    "def rank(df, features):\n",
    "    \"\"\"Retourne un classement de distances des vecteurs d'attributs\"\"\"\n",
    "    values = df[features].values\n",
    "    distances = ideal_rank(len(values))\n",
    "    distances.sort(key=lambda i: l2_distance(values[0], values[i]))\n",
    "    return distances"
   ]
  },
  {
   "cell_type": "code",
   "execution_count": 8,
   "id": "eea0cc71-9b3e-4582-b233-694695cd2641",
   "metadata": {},
   "outputs": [],
   "source": [
    "def compare_rank(a, b):\n",
    "    \"\"\"Retourne les informations du calcul d'un coefficient de Spearman pour deux classements\"\"\"\n",
    "    return spearmanr(a, b)"
   ]
  },
  {
   "cell_type": "code",
   "execution_count": 9,
   "id": "643c8a91-5e9e-4a6d-bed8-e845c893c067",
   "metadata": {},
   "outputs": [],
   "source": [
    "def rank_score(df, features):\n",
    "    \"\"\"Retourne les informations du calcul d'un coefficient de Spearman pour un classement idéal et un classement de test\"\"\"\n",
    "    return compare_rank(ideal_rank(len(df)), rank(df, features))"
   ]
  },
  {
   "cell_type": "code",
   "execution_count": 10,
   "id": "21aab7f5-e029-4115-abd0-12969057a471",
   "metadata": {},
   "outputs": [],
   "source": [
    "def show_rank_results(df, features, name=\"\"):\n",
    "    \"\"\"Affiche les informations d'un classement\"\"\"\n",
    "    print(f\"{name}:\")\n",
    "    print(f\"\\tClassement obtenu: {rank(df, features)}\")\n",
    "    print(f\"\\tCorrélation obtenue: {rank_score(df, features)}\")"
   ]
  },
  {
   "cell_type": "markdown",
   "id": "4f4e2b86-aeb6-4a02-9cb2-ef97e428ecd8",
   "metadata": {},
   "source": [
    "### Première recherche arbitraire"
   ]
  },
  {
   "cell_type": "markdown",
   "id": "a1018029-d16a-4da0-8223-af0abfdef851",
   "metadata": {},
   "source": [
    "Définition de quelques groupes d'attributs potentiellement intéressants:"
   ]
  },
  {
   "cell_type": "code",
   "execution_count": 11,
   "id": "da7a4f41-7b5d-4f16-a2b9-f0ca0c429a83",
   "metadata": {},
   "outputs": [
    {
     "name": "stdout",
     "output_type": "stream",
     "text": [
      "all:\n",
      "\tClassement obtenu: [1, 4, 5, 2, 6, 3, 7]\n",
      "\tCorrélation obtenue: SignificanceResult(statistic=0.6071428571428572, pvalue=0.1482311614811614)\n",
      "mean:\n",
      "\tClassement obtenu: [1, 4, 5, 6, 2, 3, 7]\n",
      "\tCorrélation obtenue: SignificanceResult(statistic=0.4642857142857144, pvalue=0.2939341076002517)\n",
      "mfcc:\n",
      "\tClassement obtenu: [1, 2, 6, 4, 3, 5, 7]\n",
      "\tCorrélation obtenue: SignificanceResult(statistic=0.7500000000000002, pvalue=0.05218140045705776)\n",
      "bpm:\n",
      "\tClassement obtenu: [5, 1, 2, 3, 6, 4, 7]\n",
      "\tCorrélation obtenue: SignificanceResult(statistic=0.5714285714285715, pvalue=0.1802019889115274)\n"
     ]
    }
   ],
   "source": [
    "mean_features = [feature for feature in all_features if feature.endswith(\"mean\")]\n",
    "mfcc_features = [feature for feature in mean_features if feature.startswith(\"mfcc\")]\n",
    "bpm_features = [\"bpm\"]\n",
    "\n",
    "show_rank_results(songs, all_features, \"all\")\n",
    "show_rank_results(songs, mean_features, \"mean\")\n",
    "show_rank_results(songs, mfcc_features, \"mfcc\")\n",
    "show_rank_results(songs, bpm_features, \"bpm\")"
   ]
  },
  {
   "cell_type": "markdown",
   "id": "993ef4e5-4f00-4870-a396-ed6fd8a273f1",
   "metadata": {},
   "source": [
    "On constate que l'utilisation des moyennes de MFCC fournit le meilleur résultat, avec un coefficient de ~**0.75**."
   ]
  },
  {
   "cell_type": "markdown",
   "id": "0aed4ec7-7d94-4949-a868-daac8a5f2469",
   "metadata": {},
   "source": [
    "### Recherche itérative"
   ]
  },
  {
   "cell_type": "code",
   "execution_count": 12,
   "id": "04bad64a-368c-4a5b-ac78-bd6b1ee13a4f",
   "metadata": {},
   "outputs": [],
   "source": [
    "def iterative_search(df, features, n, verbose=False):\n",
    "    \"\"\"Effectue une recherche itérative avec n tours, en ajoutant le meilleur attribut à chaque tour\"\"\"\n",
    "    test_features = features.copy()\n",
    "    selected_features = list()\n",
    "\n",
    "    best_score = 0\n",
    "    for i in range(1, n + 1):\n",
    "        scores = [rank_score(df, selected_features + [f]).statistic for f in test_features]\n",
    "\n",
    "        best_index = np.argmax(scores)\n",
    "        best_score = scores[best_index]\n",
    "        best_feature = test_features.pop(best_index)\n",
    "        \n",
    "        selected_features.append(best_feature)\n",
    "\n",
    "        if verbose:\n",
    "            print(f\"Step [{i}/{n}]\")\n",
    "            show_rank_results(songs, selected_features, name=str(selected_features))\n",
    "            \n",
    "    return (best_score, selected_features)"
   ]
  },
  {
   "cell_type": "code",
   "execution_count": 13,
   "id": "e41e286e-9ff2-4703-b5a6-4f3a913597a0",
   "metadata": {},
   "outputs": [
    {
     "name": "stdout",
     "output_type": "stream",
     "text": [
      "Step [1/15]\n",
      "['spectral_centroid_mean']:\n",
      "\tClassement obtenu: [1, 2, 3, 4, 5, 6, 7]\n",
      "\tCorrélation obtenue: SignificanceResult(statistic=1.0, pvalue=0.0)\n",
      "Step [2/15]\n",
      "['spectral_centroid_mean', 'delta spectral_flux_mean']:\n",
      "\tClassement obtenu: [1, 2, 3, 4, 5, 6, 7]\n",
      "\tCorrélation obtenue: SignificanceResult(statistic=1.0, pvalue=0.0)\n",
      "Step [3/15]\n",
      "['spectral_centroid_mean', 'delta spectral_flux_mean', 'zcr_mean']:\n",
      "\tClassement obtenu: [1, 2, 3, 4, 6, 5, 7]\n",
      "\tCorrélation obtenue: SignificanceResult(statistic=0.9642857142857145, pvalue=0.0004541491691941689)\n",
      "Step [4/15]\n",
      "['spectral_centroid_mean', 'delta spectral_flux_mean', 'zcr_mean', 'spectral_spread_mean']:\n",
      "\tClassement obtenu: [1, 2, 3, 4, 5, 6, 7]\n",
      "\tCorrélation obtenue: SignificanceResult(statistic=1.0, pvalue=0.0)\n",
      "Step [5/15]\n",
      "['spectral_centroid_mean', 'delta spectral_flux_mean', 'zcr_mean', 'spectral_spread_mean', 'mfcc_3_mean']:\n",
      "\tClassement obtenu: [1, 2, 3, 4, 5, 6, 7]\n",
      "\tCorrélation obtenue: SignificanceResult(statistic=1.0, pvalue=0.0)\n",
      "Step [6/15]\n",
      "['spectral_centroid_mean', 'delta spectral_flux_mean', 'zcr_mean', 'spectral_spread_mean', 'mfcc_3_mean', 'energy_mean']:\n",
      "\tClassement obtenu: [1, 2, 3, 4, 5, 6, 7]\n",
      "\tCorrélation obtenue: SignificanceResult(statistic=1.0, pvalue=0.0)\n",
      "Step [7/15]\n",
      "['spectral_centroid_mean', 'delta spectral_flux_mean', 'zcr_mean', 'spectral_spread_mean', 'mfcc_3_mean', 'energy_mean', 'energy_entropy_mean']:\n",
      "\tClassement obtenu: [1, 2, 3, 4, 5, 6, 7]\n",
      "\tCorrélation obtenue: SignificanceResult(statistic=1.0, pvalue=0.0)\n",
      "Step [8/15]\n",
      "['spectral_centroid_mean', 'delta spectral_flux_mean', 'zcr_mean', 'spectral_spread_mean', 'mfcc_3_mean', 'energy_mean', 'energy_entropy_mean', 'spectral_entropy_mean']:\n",
      "\tClassement obtenu: [1, 2, 3, 4, 5, 6, 7]\n",
      "\tCorrélation obtenue: SignificanceResult(statistic=1.0, pvalue=0.0)\n",
      "Step [9/15]\n",
      "['spectral_centroid_mean', 'delta spectral_flux_mean', 'zcr_mean', 'spectral_spread_mean', 'mfcc_3_mean', 'energy_mean', 'energy_entropy_mean', 'spectral_entropy_mean', 'mfcc_4_mean']:\n",
      "\tClassement obtenu: [1, 2, 3, 4, 5, 6, 7]\n",
      "\tCorrélation obtenue: SignificanceResult(statistic=1.0, pvalue=0.0)\n",
      "Step [10/15]\n",
      "['spectral_centroid_mean', 'delta spectral_flux_mean', 'zcr_mean', 'spectral_spread_mean', 'mfcc_3_mean', 'energy_mean', 'energy_entropy_mean', 'spectral_entropy_mean', 'mfcc_4_mean', 'mfcc_1_mean']:\n",
      "\tClassement obtenu: [1, 2, 3, 4, 5, 6, 7]\n",
      "\tCorrélation obtenue: SignificanceResult(statistic=1.0, pvalue=0.0)\n",
      "Step [11/15]\n",
      "['spectral_centroid_mean', 'delta spectral_flux_mean', 'zcr_mean', 'spectral_spread_mean', 'mfcc_3_mean', 'energy_mean', 'energy_entropy_mean', 'spectral_entropy_mean', 'mfcc_4_mean', 'mfcc_1_mean', 'spectral_flux_mean']:\n",
      "\tClassement obtenu: [1, 2, 3, 4, 5, 6, 7]\n",
      "\tCorrélation obtenue: SignificanceResult(statistic=1.0, pvalue=0.0)\n",
      "Step [12/15]\n",
      "['spectral_centroid_mean', 'delta spectral_flux_mean', 'zcr_mean', 'spectral_spread_mean', 'mfcc_3_mean', 'energy_mean', 'energy_entropy_mean', 'spectral_entropy_mean', 'mfcc_4_mean', 'mfcc_1_mean', 'spectral_flux_mean', 'mfcc_6_mean']:\n",
      "\tClassement obtenu: [1, 2, 3, 4, 5, 6, 7]\n",
      "\tCorrélation obtenue: SignificanceResult(statistic=1.0, pvalue=0.0)\n",
      "Step [13/15]\n",
      "['spectral_centroid_mean', 'delta spectral_flux_mean', 'zcr_mean', 'spectral_spread_mean', 'mfcc_3_mean', 'energy_mean', 'energy_entropy_mean', 'spectral_entropy_mean', 'mfcc_4_mean', 'mfcc_1_mean', 'spectral_flux_mean', 'mfcc_6_mean', 'mfcc_11_mean']:\n",
      "\tClassement obtenu: [1, 2, 3, 4, 5, 6, 7]\n",
      "\tCorrélation obtenue: SignificanceResult(statistic=1.0, pvalue=0.0)\n",
      "Step [14/15]\n",
      "['spectral_centroid_mean', 'delta spectral_flux_mean', 'zcr_mean', 'spectral_spread_mean', 'mfcc_3_mean', 'energy_mean', 'energy_entropy_mean', 'spectral_entropy_mean', 'mfcc_4_mean', 'mfcc_1_mean', 'spectral_flux_mean', 'mfcc_6_mean', 'mfcc_11_mean', 'spectral_rolloff_mean']:\n",
      "\tClassement obtenu: [1, 2, 3, 4, 5, 6, 7]\n",
      "\tCorrélation obtenue: SignificanceResult(statistic=1.0, pvalue=0.0)\n",
      "Step [15/15]\n",
      "['spectral_centroid_mean', 'delta spectral_flux_mean', 'zcr_mean', 'spectral_spread_mean', 'mfcc_3_mean', 'energy_mean', 'energy_entropy_mean', 'spectral_entropy_mean', 'mfcc_4_mean', 'mfcc_1_mean', 'spectral_flux_mean', 'mfcc_6_mean', 'mfcc_11_mean', 'spectral_rolloff_mean', 'chroma_2_mean']:\n",
      "\tClassement obtenu: [1, 2, 3, 4, 5, 6, 7]\n",
      "\tCorrélation obtenue: SignificanceResult(statistic=1.0, pvalue=0.0)\n"
     ]
    },
    {
     "data": {
      "text/plain": [
       "(1.0,\n",
       " ['spectral_centroid_mean',\n",
       "  'delta spectral_flux_mean',\n",
       "  'zcr_mean',\n",
       "  'spectral_spread_mean',\n",
       "  'mfcc_3_mean',\n",
       "  'energy_mean',\n",
       "  'energy_entropy_mean',\n",
       "  'spectral_entropy_mean',\n",
       "  'mfcc_4_mean',\n",
       "  'mfcc_1_mean',\n",
       "  'spectral_flux_mean',\n",
       "  'mfcc_6_mean',\n",
       "  'mfcc_11_mean',\n",
       "  'spectral_rolloff_mean',\n",
       "  'chroma_2_mean'])"
      ]
     },
     "execution_count": 13,
     "metadata": {},
     "output_type": "execute_result"
    }
   ],
   "source": [
    "iterative_search(songs, all_features, 15, verbose=True)"
   ]
  },
  {
   "cell_type": "markdown",
   "id": "26fe7448-71fd-4c1d-92ff-956d934643cf",
   "metadata": {},
   "source": [
    "## Conclusion"
   ]
  },
  {
   "cell_type": "markdown",
   "id": "cb0e472f-2caa-4733-9e40-13e503474343",
   "metadata": {},
   "source": [
    "On constate que l'on peut obtenir un classement parfait dès l'utilisation d'un seul attribut, la `spectral_centroid_mean`. Au delà, quasiment toutes les meilleures combinaisons itératives jusqu'à 15 permettent d'obtenir un score parfait. Globalement, les résultats de cette sélection d'attributs sont très satisfaisants.\n",
    "\n",
    "Ce laboratoire nous a montré qu'il est facile d'apréhender des données audio à l'aide de la librairie `pyAudioAnalysis` et d'obtenir un système de recommendation rudimentaire mais tout de même satisfaisant; cela a probablement été facilité par la taille modeste de l'échantillon."
   ]
  }
 ],
 "metadata": {
  "kernelspec": {
   "display_name": "Python 3 (ipykernel)",
   "language": "python",
   "name": "python3"
  },
  "language_info": {
   "codemirror_mode": {
    "name": "ipython",
    "version": 3
   },
   "file_extension": ".py",
   "mimetype": "text/x-python",
   "name": "python",
   "nbconvert_exporter": "python",
   "pygments_lexer": "ipython3",
   "version": "3.11.3"
  }
 },
 "nbformat": 4,
 "nbformat_minor": 5
}
