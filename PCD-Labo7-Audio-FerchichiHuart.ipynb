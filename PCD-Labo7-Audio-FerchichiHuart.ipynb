{
 "cells": [
  {
   "cell_type": "markdown",
   "id": "a0b7ceaf-d826-4e62-96c7-c317c04024e0",
   "metadata": {},
   "source": [
    "# PCD - Laboratoire 7 - Recommendation musicale basée sur le contenu"
   ]
  },
  {
   "cell_type": "code",
   "execution_count": 98,
   "id": "7b632be8-f947-41a7-aaa1-71a64813d589",
   "metadata": {
    "editable": true,
    "slideshow": {
     "slide_type": ""
    },
    "tags": []
   },
   "outputs": [],
   "source": [
    "import numpy as np\n",
    "import pandas as pd\n",
    "\n",
    "from pyAudioAnalysis import ShortTermFeatures\n",
    "from pyAudioAnalysis import MidTermFeatures"
   ]
  },
  {
   "cell_type": "markdown",
   "id": "6937be67-460f-4cc8-b650-d3529d66f18e",
   "metadata": {},
   "source": [
    "# 1"
   ]
  },
  {
   "cell_type": "code",
   "execution_count": 72,
   "id": "b55788e2-637e-4062-9f65-3ac4686a1792",
   "metadata": {},
   "outputs": [
    {
     "name": "stdout",
     "output_type": "stream",
     "text": [
      "Analyzing file 1 of 8: data/0.mp3\n",
      "Analyzing file 2 of 8: data/1.mp3\n",
      "Analyzing file 3 of 8: data/2.mp3\n",
      "Analyzing file 4 of 8: data/3.mp3\n",
      "Analyzing file 5 of 8: data/4.mp3\n",
      "Analyzing file 6 of 8: data/5.mp3\n",
      "Analyzing file 7 of 8: data/6.mp3\n",
      "Analyzing file 8 of 8: data/7.mp3\n",
      "Feature extraction complexity ratio: 35.2 x realtime\n"
     ]
    }
   ],
   "source": [
    "d=MidTermFeatures.directory_feature_extraction(\"data\", 1, 1, 0.05, 0.05)"
   ]
  },
  {
   "cell_type": "code",
   "execution_count": 96,
   "id": "54e00653-0775-4363-ad8f-f4a8f157dfbb",
   "metadata": {},
   "outputs": [],
   "source": [
    "a=d[0][0]\n",
    "b=d[0][1]"
   ]
  },
  {
   "cell_type": "code",
   "execution_count": 104,
   "id": "d7ec8651-521c-4cf5-bc4f-2a591886765c",
   "metadata": {},
   "outputs": [
    {
     "name": "stdout",
     "output_type": "stream",
     "text": [
      "0.0\n",
      "0.2888355022751471\n",
      "0.2944232019184417\n",
      "0.624236764386417\n",
      "0.7107470560714465\n",
      "0.6518595304406306\n",
      "0.3978594508969963\n",
      "0.9238727077294983\n"
     ]
    }
   ],
   "source": [
    "for s in d[0]:\n",
    "    print(np.linalg.norm(a[12:34] - s[12:34]))"
   ]
  },
  {
   "cell_type": "code",
   "execution_count": null,
   "id": "316131bb-7217-4875-83d3-d26304062c78",
   "metadata": {},
   "outputs": [],
   "source": []
  }
 ],
 "metadata": {
  "kernelspec": {
   "display_name": "Python 3 (ipykernel)",
   "language": "python",
   "name": "python3"
  },
  "language_info": {
   "codemirror_mode": {
    "name": "ipython",
    "version": 3
   },
   "file_extension": ".py",
   "mimetype": "text/x-python",
   "name": "python",
   "nbconvert_exporter": "python",
   "pygments_lexer": "ipython3",
   "version": "3.11.3"
  }
 },
 "nbformat": 4,
 "nbformat_minor": 5
}
